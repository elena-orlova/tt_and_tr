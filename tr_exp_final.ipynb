{
 "cells": [
  {
   "cell_type": "markdown",
   "metadata": {},
   "source": [
    "### TR decomposition "
   ]
  },
  {
   "cell_type": "code",
   "execution_count": 2,
   "metadata": {},
   "outputs": [],
   "source": [
    "import numpy as np \n",
    "import copy"
   ]
  },
  {
   "cell_type": "code",
   "execution_count": 3,
   "metadata": {},
   "outputs": [],
   "source": [
    "def svd_fix(x):\n",
    "    n = x.shape[0]\n",
    "    m = x.shape[1]\n",
    "    \n",
    "    if n > m:\n",
    "        u, s, v = np.linalg.svd(x)\n",
    "        \n",
    "    else:\n",
    "        u, s, v = np.linalg.svd(x.T)\n",
    "        v, u = u, v\n",
    "    \n",
    "    return u, s, v"
   ]
  },
  {
   "cell_type": "code",
   "execution_count": 4,
   "metadata": {},
   "outputs": [],
   "source": [
    "def truncation_index(vector, bound): \n",
    "    rnew = len(vector)\n",
    "    norm_vector = np.cumsum(np.power(vector[::-1], 2))\n",
    "    l = len(norm_vector)\n",
    "    for i in range(l-1, 0, -1):\n",
    "        if norm_vector[i] < bound**2:\n",
    "            rnew = l - i\n",
    "            break\n",
    "    return rnew \n",
    "\n",
    "def divisors(n):\n",
    "    d = []\n",
    "    for i in range(1, int(n/2+1)):\n",
    "        if n%i == 0: \n",
    "            d.append(i)\n",
    "    d.append(n)\n",
    "    return np.array(d)"
   ]
  },
  {
   "cell_type": "code",
   "execution_count": 5,
   "metadata": {},
   "outputs": [],
   "source": [
    "def TRdecomp(A, prec, r0=0):\n",
    "    \"\"\"Converts a tensor A in full format into TR-format.\n",
    "    Args:\n",
    "    A: a tensor in full format \n",
    "    prec: a relative accuracy\n",
    "    r0: the first TR-rank (must be a divisor of the first unfolding rank of A)\n",
    "    Returns\n",
    "    TR-format tensor representation \n",
    "    \"\"\"\n",
    "\n",
    "    s = np.shape(A)\n",
    "    d = len(s)\n",
    "    norm_error = prec / np.sqrt(d-1)\n",
    "    cores = [[None] * 1  for _ in range(d)]\n",
    "    C = copy.deepcopy(A)\n",
    "    rold = 1\n",
    "    \n",
    "    n = s[0]\n",
    "    C = np.reshape(C, (rold*n, np.size(C)//(rold*n)), order='F')\n",
    "    U, S, V = svd_fix(C) \n",
    "\n",
    "    rnew = truncation_index(S, norm_error*np.linalg.norm(S))-1\n",
    "    \n",
    "    factors = divisors(rnew)\n",
    "    if r0 == 0:\n",
    "        if len(factors) > 2:\n",
    "            r0 = int(np.random.choice(factors, 1))\n",
    "        else:\n",
    "            r0 = 1\n",
    "\n",
    "\n",
    "    U = U[:,0:rnew]\n",
    "    S = S[0:rnew]\n",
    "    V = V[:, 0:rnew]\n",
    "    \n",
    "    Unew = np.zeros((rold*r0, n, rnew//r0))\n",
    "    for index in range(1, r0+1):\n",
    "        Unew[index - 1, :, :] = U[:, int((index-1)*(rnew//r0) + 1- 1):int(index*(rnew//r0))]\n",
    "    \n",
    "    cores[0] = Unew\n",
    "    C =  np.diag(S) @ V.T\n",
    "\n",
    "    Cnew = np.zeros((rnew//r0, np.size(C)//(rnew), r0))\n",
    "    for index in range(1, r0+1):\n",
    "        Cnew[:, :, index-1] = C[int((index-1)*(rnew//r0) + 1-1):int(index*(rnew/r0)), :]\n",
    "    \n",
    "    C = copy.deepcopy(Cnew)\n",
    "\n",
    "    shapes = s[1:]\n",
    "    C = C.reshape(rnew//r0, *shapes, r0, order='F')\n",
    "    shapes = s[1:-1]\n",
    "    C = C.reshape(rnew//r0, *shapes, int(s[-1]*r0), order='F')\n",
    "    C = C.reshape(rnew//r0, int(np.size(C)//(rnew//r0)), order='F')\n",
    "    rold = rnew//r0\n",
    "    \n",
    "    for k in range(1, d-1):\n",
    "        n = s[k]\n",
    "        C = C.reshape(rold*n, np.size(C)//(rold*n),  order='F')  \n",
    "        U, S, V = svd_fix(C)\n",
    "        rnew = truncation_index(S, norm_error*np.linalg.norm(S))-1\n",
    "       \n",
    "        U = U[:,0:rnew]\n",
    "        S = S[0:rnew]\n",
    "        V = V[:, 0:rnew]\n",
    "\n",
    "        cores[k] = U.reshape(rold, n, rnew ,order='F')\n",
    "        C = np.diag(S) @ V.T\n",
    "        rold = rnew \n",
    "        \n",
    "    C = C.reshape(rold, s[-1], r0, order='F')\n",
    "    cores[d-1] = C\n",
    "    \n",
    "    return cores"
   ]
  },
  {
   "cell_type": "code",
   "execution_count": 7,
   "metadata": {},
   "outputs": [],
   "source": [
    "recon = np.einsum(\"ijk,klm,mnp,pqi\", *c)"
   ]
  },
  {
   "cell_type": "markdown",
   "metadata": {},
   "source": [
    "### TR to full "
   ]
  },
  {
   "cell_type": "code",
   "execution_count": 6,
   "metadata": {},
   "outputs": [],
   "source": [
    "def TR_to_full(cores):\n",
    "    \"\"\"Converts a TR- representation into full format. \n",
    "    Args: \n",
    "    cores: TR-representation \n",
    "    Returns full-format tensor representation\n",
    "    \"\"\"\n",
    "    a = cores[0] \n",
    "    d = len(cores) \n",
    "    r0, n, r1 = a.shape \n",
    "    ns = np.zeros(d)\n",
    "    ns[0] = n \n",
    "    \n",
    "    for k in range(1, d): \n",
    "        rold, n, rnew = a.shape \n",
    "        a = a.reshape(rold*n, rnew, order='F') \n",
    "        b = cores[k] \n",
    "        rnew, n, rnext = b.shape \n",
    "        ns[k] = n \n",
    "        b = b.reshape(rnew, int(np.size(b)/rnew), order='F')\n",
    "        \n",
    "        tmp = a @ b \n",
    "        a = tmp.reshape(rold, int(np.size(tmp)/(rold*rnext)), rnext, order='F') \n",
    "    a = a.reshape(r0, int(np.size(a)/(r0**2)), r0, order='F') \n",
    "        \n",
    "    res = np.zeros(int(np. size(a)/r0**2)) \n",
    "        \n",
    "    for k in range(r0): \n",
    "        res = res + a[k, :, k] \n",
    "        \n",
    "    ns = list(map(int, ns)) \n",
    "    res = res.reshape(*ns, order='F') \n",
    "    return res "
   ]
  },
  {
   "cell_type": "markdown",
   "metadata": {},
   "source": [
    "### TR with shifts"
   ]
  },
  {
   "cell_type": "code",
   "execution_count": 7,
   "metadata": {},
   "outputs": [],
   "source": [
    "def num_param_tr(cores): \n",
    "    '''Computes the number of parameters in the TR-representation\n",
    "    '''\n",
    "    d = len(cores)\n",
    "    total_size = 0\n",
    "    for i in range(d):\n",
    "        s = cores[i].shape\n",
    "        total_size = total_size + np.prod(s)\n",
    "    return total_size\n",
    "\n",
    "def ipermuteTR(cores, start_ind):\n",
    "    '''Shifts the indices of a TR-representation\n",
    "    start_ind-1 places to the right\n",
    "    '''\n",
    "    d = len(cores)\n",
    "    res = [[None] * 1  for _ in range(d)]\n",
    "    perm = np.concatenate((np.arange(start_ind-1, d), np.arange(0, start_ind-1)), axis=0)\n",
    "    inv_perm = np.arange(len(perm))\n",
    "    \n",
    "    for i in range(len(perm)): \n",
    "        inv_perm[perm[i]] = i\n",
    "        \n",
    "    for k in range(d):\n",
    "        res[k] = cores[inv_perm[k]]\n",
    "    return res"
   ]
  },
  {
   "cell_type": "code",
   "execution_count": 8,
   "metadata": {},
   "outputs": [],
   "source": [
    "def tr_shifts(A, prec, r0=0):\n",
    "    '''Converts a tensor A in full format into TR-format,\n",
    "    using relative accuracy prec.\n",
    "    Loops over all cyclic shifts (with step size m)\n",
    "    and divisors of the first unfolding rank of A\n",
    "    and chooses the one with smallest storage cost.\n",
    "    Args:\n",
    "    A: a tensor in full format \n",
    "    prec: a relative accuracy\n",
    "    r0: the first TR-rank (must be a divisor of the first unfolding rank of A)\n",
    "    Returns\n",
    "    TR-format tensor representation    \n",
    "    '''\n",
    "    \n",
    "    s = np.shape(A)\n",
    "    d = len(s)\n",
    "    norm_error = prec / np.sqrt(d - 1)\n",
    "    curr_small = float('Inf')\n",
    "    cores = [[None] * 1  for _ in range(d)]\n",
    "    curr_ind = -1\n",
    "    m = 1\n",
    "    \n",
    "    for start_ind in range(1, d, m):\n",
    "        perm = np.concatenate((np.arange(start_ind-1, d), np.arange(0, start_ind-1)), axis=0)\n",
    "        B = A.transpose(*perm)\n",
    "        s = B.shape\n",
    "        unf = B.reshape(s[0], np.prod(s[1:]), order='F')\n",
    "        U, S, V = np.linalg.svd(unf)\n",
    "        rnew = truncation_index(S,norm_error*np.linalg.norm(S))-1\n",
    "        factors = divisors(rnew)\n",
    "        l = len(factors)\n",
    "        \n",
    "        for i in range(l):\n",
    "            r0 = factors[i]\n",
    "            trtmp = TRdecomp(B, prec, r0)\n",
    "            \n",
    "            a = num_param_tr(trtmp)\n",
    "            if a < curr_small:\n",
    "                tr = trtmp\n",
    "                curr_ind = start_ind\n",
    "                curr_small = a\n",
    "           \n",
    "    # unpermute the cores\n",
    "    res = ipermuteTR(tr, curr_ind)\n",
    "    \n",
    "    return res"
   ]
  },
  {
   "cell_type": "markdown",
   "metadata": {},
   "source": [
    "### TR heuristic"
   ]
  },
  {
   "cell_type": "code",
   "execution_count": 9,
   "metadata": {},
   "outputs": [],
   "source": [
    "def interaction_rank(A, k):\n",
    "    # computes the k:th interaction rank of T\n",
    "    d = np.ndim(A)\n",
    "    s = A.shape\n",
    "    n_ind = k + 1\n",
    "    if k == d-1:\n",
    "        n_ind = 0\n",
    "    perm = np.concatenate((np.arange(k, d), np.arange(0, k)), axis=0)\n",
    "    T_r = A.transpose(*perm)\n",
    "    T_r = T_r.reshape(int(s[k]*s[n_ind]), int(np.size(A)/(s[k]*s[n_ind])), order='F')\n",
    "    res = np.linalg.matrix_rank(T_r)\n",
    "    return res\n",
    "\n",
    "\n",
    "def choose_starting_index(A): \n",
    "    # Chooses the starting index k minimizing rank(IM_k)\n",
    "    d = np.ndim(A)\n",
    "    i_ranks = np.zeros(d)\n",
    "    for k in range(d):\n",
    "        i_ranks[k] = interaction_rank(A, k)\n",
    "    res = np.argmin(i_ranks)\n",
    "    \n",
    "    return res, i_ranks"
   ]
  },
  {
   "cell_type": "code",
   "execution_count": 10,
   "metadata": {},
   "outputs": [],
   "source": [
    "def tr_heuristic(A, prec):\n",
    "    \"\"\"Converts a tensor A in full format into TR-format.\n",
    "    Cyclic shift and divisor of first unfolding rank of A\n",
    "    are chosen heuristically.\n",
    "    Args:\n",
    "    A: a tensor in full format \n",
    "    prec: a relative accuracy\n",
    "    Returns\n",
    "    TR-format tensor representation \n",
    "    \"\"\"\n",
    "    d = np.ndim(A)\n",
    "    norm_error = prec/np.sqrt(d-1)\n",
    "    cores = [[None] * 1  for _ in range(d)]\n",
    "    final_cores = [[None] * 1  for _ in range(d)]\n",
    "    \n",
    "    # pick initial permutation\n",
    "    [start_ind, i_ranks] = choose_starting_index(A)\n",
    "    print(start_ind) \n",
    "    perm = np.concatenate((np.arange(start_ind, d), np.arange(0, start_ind)), axis=0)\n",
    "    print(perm)\n",
    "    A = A.transpose(*perm)\n",
    "    s = A.shape\n",
    "    \n",
    "    C = A.copy()\n",
    "    rold = 1\n",
    "    \n",
    "    # initial step\n",
    "    n = s[0]\n",
    "    C = C.reshape(int(rold*n), int(np.size(C)/(rold*n)), order='F');\n",
    "    U, S, Vh = svd_fix(C)\n",
    "    V = Vh.T\n",
    "    rnew = truncation_index(S, norm_error*np.linalg.norm(S))-1\n",
    "\n",
    "    factors = divisors(rnew)\n",
    "    n_ind = start_ind - 1\n",
    "    if n_ind == -1:\n",
    "        n_ind = d-1\n",
    "    \n",
    "    tmp = abs(rnew / factors - i_ranks[n_ind]) + abs(factors-i_ranks[start_ind])\n",
    "    m_ind = np.argmin(tmp)\n",
    "    r0 = factors[m_ind]\n",
    "    \n",
    "    U = U[:,:rnew]\n",
    "    S = S[:rnew]\n",
    "    V = V[:, :rnew]\n",
    "    \n",
    "    Unew = np.zeros((int(rold*r0), n, int(rnew/r0)))\n",
    "    for index in range(1, r0+1):\n",
    "        Unew[index - 1, :, :] = U[:, int((index-1)*(rnew//r0)):int(index*(rnew//r0))]\n",
    "    \n",
    "    cores[0] = Unew.copy()\n",
    "    C = np.diag(S) @ V.T\n",
    "    \n",
    "    # reshape C into a 3-tensor\n",
    "    Cnew = np.zeros((int(rnew//r0), int(np.size(C)//(rnew)), r0))\n",
    "    for index in range(1, r0+1):\n",
    "        Cnew[:, :, index-1] = C[int((index-1)*(rnew//r0) + 1-1):int(index*(rnew/r0)), :]\n",
    "    \n",
    "    C = Cnew.copy()\n",
    "    shapes = s[1:]\n",
    "    C = C.reshape(int(rnew/r0), *shapes, r0, order='F')\n",
    "    shapes = s[1:-1]\n",
    "    C = C.reshape(int(rnew/r0), *shapes, int(s[-1]*r0), order='F')\n",
    "    C = C.reshape(int(rnew/r0), int(np.size(C)//(rnew//r0)), order='F')\n",
    "    rold = int(rnew/r0)\n",
    "    \n",
    "    for k in range(1, d-1):\n",
    "        n = s[k]\n",
    "        C = C.reshape(int(rold*n), int(np.size(C)/(rold*n)),  order='F')     \n",
    "        U, S, V = svd_fix(C)\n",
    "        rnew = truncation_index(S, norm_error*np.linalg.norm(S))-1\n",
    "        U = U[:,0:rnew]\n",
    "        S = S[0:rnew]\n",
    "        V = V[:, 0:rnew]\n",
    "        cores[k] = U.reshape(rold, n, rnew, order='F')\n",
    "        C = np.diag(S) @ V.T\n",
    "        rold = rnew    \n",
    "    C = C.reshape(rold, s[-1], r0, order='F')\n",
    "    cores[d-1] = C\n",
    "    \n",
    "    # unpermute the cores      \n",
    "    perm = np.concatenate((np.arange(start_ind, d), np.arange(0, start_ind)), axis=0)\n",
    "    inv_perm = np.arange(len(perm))\n",
    "    \n",
    "    for i in range(len(perm)): \n",
    "        inv_perm[perm[i]] = i\n",
    "        \n",
    "    for k in range(d):\n",
    "        final_cores[k] = cores[inv_perm[k]]\n",
    "    \n",
    "    return final_cores"
   ]
  },
  {
   "cell_type": "markdown",
   "metadata": {},
   "source": [
    "### Experimrnts"
   ]
  },
  {
   "cell_type": "code",
   "execution_count": 43,
   "metadata": {},
   "outputs": [],
   "source": [
    "d = 5 \n",
    "n =20 \n",
    "eps = 10e-12"
   ]
  },
  {
   "cell_type": "code",
   "execution_count": 45,
   "metadata": {},
   "outputs": [],
   "source": [
    "m_deg = 4\n",
    "m_term = 6"
   ]
  },
  {
   "cell_type": "code",
   "execution_count": 54,
   "metadata": {},
   "outputs": [],
   "source": [
    "def get_alpha(m_term, d, m_deg): \n",
    "    alpha = np.zeros((m_term, d))\n",
    "    for i in range(m_term):\n",
    "        for j in range(d):\n",
    "            alpha[i, j] = np.random.uniform(1, m_deg)\n",
    "    return alpha"
   ]
  },
  {
   "cell_type": "code",
   "execution_count": 55,
   "metadata": {},
   "outputs": [],
   "source": [
    "alpha = np.zeros((m_term, d))\n",
    "\n",
    "for i in range(m_term):\n",
    "    for j in range(d):\n",
    "        alpha[i, j] = np.random.uniform(1, m_deg)"
   ]
  },
  {
   "cell_type": "code",
   "execution_count": 58,
   "metadata": {},
   "outputs": [],
   "source": [
    "X = np.zeros((n, n, n, n, n))"
   ]
  },
  {
   "cell_type": "code",
   "execution_count": 65,
   "metadata": {},
   "outputs": [],
   "source": [
    "def get_X(n, alpha, m_term):\n",
    "    X = np.zeros((n, n, n, n, n))\n",
    "    for i0, x0 in enumerate(np.linspace(0, 1, n)):\n",
    "        for i1, x1 in enumerate(np.linspace(0, 1, n)):\n",
    "            for i2, x2 in enumerate(np.linspace(0, 1, n)):\n",
    "                for i3, x3 in enumerate(np.linspace(0, 1, n)):\n",
    "                    for i4, x4 in enumerate(np.linspace(0, 1, n)):\n",
    "                        for i in range(m_term):\n",
    "                            X[i0, i1, i2, i3, i4] += np.power(x0, alpha[i, 0]) * np.power(x1, alpha[i, 1]) * np.power(x2, alpha[i, 2]) * np.power(x3, alpha[i, 3]) * np.power(x4, alpha[i, 4])"
   ]
  },
  {
   "cell_type": "code",
   "execution_count": 66,
   "metadata": {},
   "outputs": [],
   "source": [
    "m_deg = np.array([2, 4, 6, 8, 10])\n",
    "m_term = np.array([2, 6, 10, 14, 18])"
   ]
  },
  {
   "cell_type": "code",
   "execution_count": 73,
   "metadata": {},
   "outputs": [
    {
     "name": "stdout",
     "output_type": "stream",
     "text": [
      "m_deg 2, m_term 2, TR-SVD 1, TT_shifts 0.90, TR_heurist 0.94\n",
      "m_deg 2, m_term 6, TR-SVD 1, TT_shifts 0.91, TR_heurist 0.97\n",
      "m_deg 2, m_term 10, TR-SVD 1, TT_shifts 0.93, TR_heurist 0.95\n",
      "m_deg 2, m_term 14, TR-SVD 1, TT_shifts 0.97, TR_heurist 0.97\n",
      "m_deg 2, m_term 18, TR-SVD 1, TT_shifts 0.98, TR_heurist 0.98\n",
      "m_deg 4, m_term 2, TR-SVD 1, TT_shifts 0.92, TR_heurist 0.90\n",
      "m_deg 4, m_term 6, TR-SVD 1.48, TT_shifts 0.86, TR_heurist 0.95\n",
      "m_deg 4, m_term 10, TR-SVD 1.68, TT_shifts 0.88, TR_heurist 0.93\n",
      "m_deg 4, m_term 14, TR-SVD 1.73, TT_shifts 0.92, TR_heurist 0.95\n",
      "m_deg 4, m_term 18, TR-SVD 1.65, TT_shifts 0.91, TR_heurist 0.93\n",
      "m_deg 6, m_term 2, TR-SVD 1, TT_shifts 0.95, TR_heurist 0.98\n",
      "m_deg 6, m_term 6, TR-SVD 1.62, TT_shifts 0.88, TR_heurist 0.93\n",
      "m_deg 6, m_term 10, TR-SVD 1.63, TT_shifts 0.89, TR_heurist 0.95\n",
      "m_deg 6, m_term 14, TR-SVD 1.89, TT_shifts 0.91, TR_heurist 0.94\n",
      "m_deg 6, m_term 18, TR-SVD 1.96, TT_shifts 0.91, TR_heurist 0.95\n",
      "m_deg 8, m_term 2, TR-SVD 1, TT_shifts 0.94, TR_heurist 0.98\n",
      "m_deg 8, m_term 6, TR-SVD 2.06, TT_shifts 0.91, TR_heurist 0.98\n",
      "m_deg 8, m_term 10, TR-SVD 1.76, TT_shifts 0.90, TR_heurist 0.95\n",
      "m_deg 8, m_term 14, TR-SVD 1.77, TT_shifts 0.90, TR_heurist 0.96\n",
      "m_deg 8, m_term 18, TR-SVD 2.07, TT_shifts 0.93, TR_heurist 0.98\n",
      "m_deg 10, m_term 2, TR-SVD 1, TT_shifts 0.95, TR_heurist 0.99\n",
      "m_deg 10, m_term 6, TR-SVD 1.91, TT_shifts 0.93, TR_heurist 0.99\n",
      "m_deg 10, m_term 10, TR-SVD 1.94, TT_shifts 0.90, TR_heurist 0.97\n",
      "m_deg 10, m_term 14, TR-SVD 2.62, TT_shifts 0.91, TR_heurist 0.96\n",
      "m_deg 10, m_term 18, TR-SVD 3.18, TT_shifts 0.94, TR_heurist 0.98\n"
     ]
    }
   ],
   "source": [
    "for i in range(len(m_deg)):\n",
    "    for j in range(len(m_term)): \n",
    "        tr_costs = []\n",
    "        tr_shift_cots = []\n",
    "        tr_smart_costs = []\n",
    "        for l in range(100):\n",
    "            alpha = get_alpha(m_term[j], d, m_deg[i])\n",
    "            X_tensor = get_X(n, alpha, m_term[j])\n",
    "            tt_svd = TRdecomp(X_tensor, eps, 1)\n",
    "\n",
    "            _,_,r1 = tt_svd[0].shape\n",
    "            divs = divisors(r1)\n",
    "            tmp = list(abs(divs - r1/divs)) #balanced choice\n",
    "            r0 = tmp.index(min(tmp)) \n",
    "\n",
    "            tr_svd = TRdecomp(X_tensor, eps, divs[r0])\n",
    "            tr_svd_shifts = tr_shifts(X_tensor, eps)\n",
    "            tr_heurist = tr_heuristic(X_tensor, eps)\n",
    "\n",
    "            tr_svd_cost = num_param_tr(tr_svd)/num_param_tr(tt_svd)\n",
    "            tr_shift_cost = num_param_tr(tr_svd_shifts)/num_param_tr(tt_svd)\n",
    "            tr_heur_cost = num_param_tr(tr_heurist)/num_param_tr(tt_svd)\n",
    "            \n",
    "            tr_costs.append(tr_svd_cost)\n",
    "            tr_shift_cots.append(tr_shift_cost)\n",
    "            tr_smart_costs.append(tr_heur_cost)\n",
    "            \n",
    "        print('m_deg {}, m_term {}, TR-SVD {:.2f}, TT_shifts {:.2f}, TR_heurist{:.2f}'.format(m_deg[i], m_term[j], np.array(tr_costs).mean(), np.array(tr_shift_cots).mean(), np.array(tr_smart_costs).mean()))"
   ]
  },
  {
   "cell_type": "code",
   "execution_count": 75,
   "metadata": {},
   "outputs": [
    {
     "name": "stdout",
     "output_type": "stream",
     "text": [
      "m_deg 2, m_term 2, TR-SVD 1, TR_search 0.94, TR_heurist 0.95\n",
      "m_deg 2, m_term 6, TR-SVD 1, TR_search  0.94, TR_heurist 0.98\n",
      "m_deg 2, m_term 10, TR-SVD 1, TR_search 0.95, TR_heurist 0.95\n",
      "m_deg 2, m_term 14, TR-SVD 1, TR_search 0.98, TR_heurist 0.98\n",
      "m_deg 2, m_term 18, TR-SVD 1, TR_search 0.98, TR_heurist 0.99\n",
      "m_deg 4, m_term 2, TR-SVD 1, TR_search 0.95, TR_heurist 0.99\n",
      "m_deg 4, m_term 6, TR-SVD 1.46, TR_search 0.93, TR_heurist 0.96\n",
      "m_deg 4, m_term 10, TR-SVD 1.67, TR_search 0.93, TR_heurist 0.95\n",
      "m_deg 4, m_term 14, TR-SVD 1.74, TR_search 0.94, TR_heurist 0.96\n",
      "m_deg 4, m_term 18, TR-SVD 1.64, TR_search 0.94, TR_heurist 0.94\n",
      "m_deg 6, m_term 2, TR-SVD 1, TR_search 0.97, TR_heurist 0.99\n",
      "m_deg 6, m_term 6, TR-SVD 1.62, TR_search 0.93, TR_heurist 0.93\n",
      "m_deg 6, m_term 10, TR-SVD 1.63, TR_search 0.94, TR_heurist 0.96\n",
      "m_deg 6, m_term 14, TR-SVD 1.90, TR_search 0.95, TR_heurist 0.95\n",
      "m_deg 6, m_term 18, TR-SVD 1.94, TR_search 0.94, TR_heurist 0.96\n",
      "m_deg 8, m_term 2, TR-SVD 1, TR_search 0.95, TR_heurist 0.99\n",
      "m_deg 8, m_term 6, TR-SVD 2.04, TR_search 0.96, TR_heurist 0.98\n",
      "m_deg 8, m_term 10, TR-SVD 1.75, TR_search 0.96, TR_heurist 0.96\n",
      "m_deg 8, m_term 14, TR-SVD 1.77, TR_search 0.95, TR_heurist 0.98\n",
      "m_deg 8, m_term 18, TR-SVD 2.03, TR_search 0.97, TR_heurist 0.99\n",
      "m_deg 10, m_term 2, TR-SVD 1, TR_search 0.98, TR_heurist 1.01\n",
      "m_deg 10, m_term 6, TR-SVD 1.92, TR_search 0.96, TR_heurist 1.00\n",
      "m_deg 10, m_term 10, TR-SVD 1.93, TR_search 0.95, TR_heurist 0.98\n",
      "m_deg 10, m_term 14, TR-SVD 2.62, TR_search 0.96, TR_heurist 0.97\n",
      "m_deg 10, m_term 18, TR-SVD 3.18, TR_search 0.97, TR_heurist 1.00\n"
     ]
    }
   ],
   "source": [
    "for i in range(len(m_deg)):\n",
    "    for j in range(len(m_term)): \n",
    "        tr_costs = []\n",
    "        tr_shift_cots = []\n",
    "        tr_smart_costs = []\n",
    "        for l in range(50):\n",
    "            alpha = get_alpha(m_term[j], d, m_deg[i])\n",
    "            X_tensor = get_X(n, alpha, m_term[j])\n",
    "            tt_svd = TRdecomp(X_tensor, eps, 1)\n",
    "\n",
    "            _,_,r1 = tt_svd[0].shape\n",
    "            divs = divisors(r1)\n",
    "            tmp = list(abs(divs - r1/divs)) #balanced choice\n",
    "            r0 = tmp.index(min(tmp)) \n",
    "\n",
    "            tr_svd = TRdecomp(X_tensor, eps, divs[r0])\n",
    "            divs = divisors(r1)\n",
    "            tr_svd_min = TRdecomp(X_tensor, eps, divs[0])\n",
    "            for r in divs[1:]:\n",
    "                tr_svd_ex = Rdecomp(X_tensor, eps, r)\n",
    "                if num_param_tr(tr_svd_ex) < num_param(tr_svd_min):\n",
    "                    tr_svd_min = tr_svd_ex\n",
    "            \n",
    "            tr_heurist = tr_heuristic(X_tensor, eps)\n",
    "            \n",
    "            tr_svd_cost = num_param_tr(tr_svd)/num_param_tr(tt_svd)\n",
    "            tr_shift_cost = num_param_tr(tr_svd_min)/num_param_tr(tt_svd)\n",
    "            tr_heur_cost = num_param_tr(tr_heurist)/num_param_tr(tt_svd)\n",
    "            \n",
    "            tr_costs.append(tr_svd_cost)\n",
    "            tr_shift_cots.append(tr_shift_cost)\n",
    "            tr_smart_costs.append(tr_heur_cost)\n",
    "            \n",
    "        print('m_deg {}, m_term {}, TR-SVD {:.2f}, TR_search {:.2f}, TR_heurist{:.2f}'.format(m_deg[i], m_term[j], np.array(tr_costs).mean(), np.array(tr_shift_cots).mean(), np.array(tr_smart_costs).mean()))"
   ]
  },
  {
   "cell_type": "code",
   "execution_count": 11,
   "metadata": {},
   "outputs": [],
   "source": [
    "d = 5\n",
    "a = 0\n",
    "b = 1\n",
    "n = 10\n",
    "N = n**d\n",
    "h = (b-a)/n\n",
    "e = np.ones((1,n))\n",
    "x1 = np.linspace(a, b, n)\n",
    "x = np.zeros((d,N))"
   ]
  },
  {
   "cell_type": "code",
   "execution_count": 12,
   "metadata": {},
   "outputs": [],
   "source": [
    "x[0,:] = np.kron(np.kron(np.kron(np.kron(e,e),e),e),x1)\n",
    "x[1,:] = np.kron(np.kron(np.kron(np.kron(e,e),e),x1),e)\n",
    "x[2,:] = np.kron(np.kron(np.kron(np.kron(e,e),x1),e),e)\n",
    "x[3,:] = np.kron(np.kron(np.kron(np.kron(e,x1),e),e),e)\n",
    "x[4,:] = np.kron(np.kron(np.kron(np.kron(x1,e),e),e),e)"
   ]
  },
  {
   "cell_type": "code",
   "execution_count": 13,
   "metadata": {},
   "outputs": [],
   "source": [
    "# A = np.exp(x[0,:]*x[1,:] + x[1,:]*x[2,:] + x[2,:]*x[3,:] + x[1,:]*x[4,:])\n",
    "# A = 1./np.sqrt(1 + x[0,:]**2+ x[1,:]**2+ x[2,:]**2 + x[3,:]**2 + x[4,:]**2)\n",
    "# A = np.exp(np.cos(x[1,:]*x[5,:] + x[2,:]*x[1,:] + x[4,:]+x[3,:]));\n",
    "# A = np.exp(((x[1, :]*x[2,:] + x[5,:]*x[4,:]*x[3,:]*x[1,:]**10)));\n",
    "A = np.exp(np.cos(x[0,:]*x[4,:] + x[1,:]+x[2,:]+ x[3,:]))"
   ]
  },
  {
   "cell_type": "code",
   "execution_count": 14,
   "metadata": {},
   "outputs": [],
   "source": [
    "A = A.reshape(10, 10, 10, 10, 10 , order='F')"
   ]
  },
  {
   "cell_type": "code",
   "execution_count": 15,
   "metadata": {},
   "outputs": [],
   "source": [
    "prec = 1e-12\n",
    "max_iter = 1"
   ]
  },
  {
   "cell_type": "code",
   "execution_count": 16,
   "metadata": {},
   "outputs": [],
   "source": [
    "import time"
   ]
  },
  {
   "cell_type": "code",
   "execution_count": 17,
   "metadata": {},
   "outputs": [],
   "source": [
    "# TT decomp\n",
    "# start_time = time.time()\n",
    "for k in range(max_iter):\n",
    "    zTT = TRdecomp(A, prec, 1)\n",
    "# t1=time.time() - start_time\n",
    "# print(t1)"
   ]
  },
  {
   "cell_type": "code",
   "execution_count": 19,
   "metadata": {},
   "outputs": [],
   "source": [
    "_,_,r1 = zTT[0].shape\n",
    "divs = divisors(r1)\n",
    "tmp = list(abs(divs - r1/divs))\n",
    "r0 = tmp.index(min(tmp)) "
   ]
  },
  {
   "cell_type": "code",
   "execution_count": 21,
   "metadata": {},
   "outputs": [
    {
     "name": "stdout",
     "output_type": "stream",
     "text": [
      "10.271489143371582\n"
     ]
    }
   ],
   "source": [
    "# TR SVD\n",
    "start_time = time.time()\n",
    "for k in range(max_iter):\n",
    "    zBal = TRdecomp(A, prec, divs[r0])\n",
    "tbal=time.time() - start_time\n",
    "print(tbal)"
   ]
  },
  {
   "cell_type": "code",
   "execution_count": 22,
   "metadata": {},
   "outputs": [
    {
     "name": "stdout",
     "output_type": "stream",
     "text": [
      "88.81568503379822\n"
     ]
    }
   ],
   "source": [
    "# TR with shifts\n",
    "start_time = time.time()\n",
    "for k in range(max_iter):\n",
    "    zTR = tr_shifts(A, prec)\n",
    "tall = time.time() - start_time\n",
    "print(tall)"
   ]
  },
  {
   "cell_type": "code",
   "execution_count": 23,
   "metadata": {},
   "outputs": [
    {
     "name": "stdout",
     "output_type": "stream",
     "text": [
      "4\n",
      "[4 0 1 2 3]\n",
      "4.206234931945801\n"
     ]
    }
   ],
   "source": [
    "# TR with shifts heuristic\n",
    "start_time = time.time()\n",
    "for k in range(max_iter):\n",
    "    zPrealt2 = tr_heuristic(A, prec)\n",
    "tprealt2=time.time() - start_time\n",
    "print(tprealt2)"
   ]
  },
  {
   "cell_type": "code",
   "execution_count": 379,
   "metadata": {},
   "outputs": [
    {
     "name": "stdout",
     "output_type": "stream",
     "text": [
      "4\n",
      "[4 0 1 2 3]\n",
      "4.329229831695557\n"
     ]
    }
   ],
   "source": [
    "# TR with shifts heuristic\n",
    "start_time = time.time()\n",
    "for k in range(max_iter):\n",
    "    zPrealt2 = tr_heuristic(A, prec)\n",
    "tprealt2=time.time() - start_time\n",
    "print(tprealt2)"
   ]
  },
  {
   "cell_type": "code",
   "execution_count": 25,
   "metadata": {},
   "outputs": [
    {
     "name": "stdout",
     "output_type": "stream",
     "text": [
      "Storage quotients\n",
      "TR SVD vs TT 0.5311407928139035\n",
      "TR with shifts vs TT 0.06902636203866433\n",
      "TR heuristec vs TT 0.06902636203866433\n"
     ]
    }
   ],
   "source": [
    "print('Storage quotients')\n",
    "print('TR SVD vs TT {:.2f}'.format(num_param_tr(zBal)/num_param_tr(zTT)))\n",
    "print('TR with shifts vs TT {:.2f}'.format(num_param_tr(zTR)/num_param_tr(zTT)))\n",
    "print('TR heuristec vs TT {:.2f}'.format(num_param_tr(zPrealt2)/num_param_tr(zTT)))"
   ]
  },
  {
   "cell_type": "code",
   "execution_count": 30,
   "metadata": {},
   "outputs": [
    {
     "name": "stdout",
     "output_type": "stream",
     "text": [
      "Storage quotients\n",
      "TR SVD vs TT 1.29\n",
      "TR with shifts vs TT 0.74\n",
      "TR heuristec vs TT 0.90\n"
     ]
    }
   ],
   "source": [
    "print('Storage quotients')\n",
    "print('TR SVD vs TT {:.2f}'.format(num_param_tr(zBal)/num_param_tr(zTT)))\n",
    "print('TR with shifts vs TT {:.2f}'.format(num_param_tr(zTR)/num_param_tr(zTT)))\n",
    "print('TR heuristec vs TT {:.2f}'.format(num_param_tr(zPrealt2)/num_param_tr(zTT)))"
   ]
  },
  {
   "cell_type": "code",
   "execution_count": 32,
   "metadata": {},
   "outputs": [
    {
     "name": "stdout",
     "output_type": "stream",
     "text": [
      "Storage quotients\n",
      "TR SVD vs TT 1.93\n",
      "TR with shifts vs TT 0.44\n",
      "TR heuristec vs TT 0.53\n"
     ]
    }
   ],
   "source": [
    "print('Storage quotients')\n",
    "print('TR SVD vs TT {:.2f}'.format(num_param_tr(zBal)/num_param_tr(zTT)))\n",
    "print('TR with shifts vs TT {:.2f}'.format(num_param_tr(zTR)/num_param_tr(zTT)))\n",
    "print('TR heuristec vs TT {:.2f}'.format(num_param_tr(zPrealt2)/num_param_tr(zTT)))"
   ]
  },
  {
   "cell_type": "code",
   "execution_count": 41,
   "metadata": {},
   "outputs": [
    {
     "name": "stdout",
     "output_type": "stream",
     "text": [
      "Storage quotients\n",
      "TR SVD vs TT 1.29\n",
      "TR with shifts vs TT 0.74\n",
      "TR heuristec vs TT 0.90\n"
     ]
    }
   ],
   "source": [
    "print('Storage quotients')\n",
    "print('TR SVD vs TT {:.2f}'.format(num_param_tr(zBal)/num_param_tr(zTT)))\n",
    "print('TR with shifts vs TT {:.2f}'.format(num_param_tr(zTR)/num_param_tr(zTT)))\n",
    "print('TR heuristec vs TT {:.2f}'.format(num_param_tr(zPrealt2)/num_param_tr(zTT)))"
   ]
  },
  {
   "cell_type": "code",
   "execution_count": 42,
   "metadata": {},
   "outputs": [
    {
     "name": "stdout",
     "output_type": "stream",
     "text": [
      "Storage quotients\n",
      "TR SVD vs TT 1.90\n",
      "TR with shifts vs TT 0.28\n",
      "TR heuristec vs TT 0.28\n"
     ]
    }
   ],
   "source": [
    "print('Storage quotients')\n",
    "print('TR SVD vs TT {:.2f}'.format(num_param_tr(zBal)/num_param_tr(zTT)))\n",
    "print('TR with shifts vs TT {:.2f}'.format(num_param_tr(zTR)/num_param_tr(zTT)))\n",
    "print('TR heuristec vs TT {:.2f}'.format(num_param_tr(zPrealt2)/num_param_tr(zTT)))"
   ]
  },
  {
   "cell_type": "code",
   "execution_count": 40,
   "metadata": {},
   "outputs": [],
   "source": [
    "# experiments with diffent cyclic shifts\n",
    "_,_,r1 = zTT[0].shape\n",
    "divs = divisors(r1)\n",
    "# tmp = list(abs(divs - r1/divs))\n",
    "# r0 = tmp.index(min(tmp))"
   ]
  },
  {
   "cell_type": "code",
   "execution_count": 76,
   "metadata": {},
   "outputs": [],
   "source": [
    "# TT svd\n",
    "zTT = TRdecomp(A, prec, 1)\n",
    "zTR = TRdecomp(A, prec, divs[-1])"
   ]
  },
  {
   "cell_type": "code",
   "execution_count": 34,
   "metadata": {},
   "outputs": [
    {
     "name": "stdout",
     "output_type": "stream",
     "text": [
      "Storage quotients k=1\n",
      "TR with shifts vs TT 1.00\n"
     ]
    }
   ],
   "source": [
    "print('Storage quotients k=1')\n",
    "print('TR with shifts vs TT {:.2f}'.format(num_param_tr(zTR)/num_param_tr(zTT)))"
   ]
  },
  {
   "cell_type": "code",
   "execution_count": 35,
   "metadata": {},
   "outputs": [
    {
     "name": "stdout",
     "output_type": "stream",
     "text": [
      "Storage quotients k=2\n",
      "TR with shifts vs TT 0.44\n"
     ]
    }
   ],
   "source": [
    "print('Storage quotients k=2')\n",
    "print('TR with shifts vs TT {:.2f}'.format(num_param_tr(zTR)/num_param_tr(zTT)))"
   ]
  },
  {
   "cell_type": "code",
   "execution_count": 36,
   "metadata": {},
   "outputs": [
    {
     "name": "stdout",
     "output_type": "stream",
     "text": [
      "Storage quotients k=3\n",
      "TR with shifts vs TT 0.72\n"
     ]
    }
   ],
   "source": [
    "print('Storage quotients k=3')\n",
    "print('TR with shifts vs TT {:.2f}'.format(num_param_tr(zTR)/num_param_tr(zTT)))"
   ]
  },
  {
   "cell_type": "code",
   "execution_count": 38,
   "metadata": {},
   "outputs": [
    {
     "name": "stdout",
     "output_type": "stream",
     "text": [
      "Storage quotients k=4\n",
      "TR with shifts vs TT 0.91\n"
     ]
    }
   ],
   "source": [
    "print('Storage quotients k=4')\n",
    "print('TR with shifts vs TT {:.2f}'.format(num_param_tr(zTR)/num_param_tr(zTT)))"
   ]
  },
  {
   "cell_type": "code",
   "execution_count": null,
   "metadata": {},
   "outputs": [],
   "source": []
  }
 ],
 "metadata": {
  "kernelspec": {
   "display_name": "Python 3",
   "language": "python",
   "name": "python3"
  },
  "language_info": {
   "codemirror_mode": {
    "name": "ipython",
    "version": 3
   },
   "file_extension": ".py",
   "mimetype": "text/x-python",
   "name": "python",
   "nbconvert_exporter": "python",
   "pygments_lexer": "ipython3",
   "version": "3.7.3"
  }
 },
 "nbformat": 4,
 "nbformat_minor": 2
}
